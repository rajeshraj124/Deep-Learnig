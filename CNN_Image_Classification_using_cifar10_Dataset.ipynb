{
  "nbformat": 4,
  "nbformat_minor": 0,
  "metadata": {
    "colab": {
      "name": "CNN Image Classification using cifar10 Dataset.ipynb",
      "provenance": [],
      "collapsed_sections": [],
      "authorship_tag": "ABX9TyMwRgZRr4mPdcqU/TnGI7Yx",
      "include_colab_link": true
    },
    "kernelspec": {
      "name": "python3",
      "display_name": "Python 3"
    },
    "accelerator": "GPU"
  },
  "cells": [
    {
      "cell_type": "markdown",
      "metadata": {
        "id": "view-in-github",
        "colab_type": "text"
      },
      "source": [
        "<a href=\"https://colab.research.google.com/github/rajeshraj124/Deep-Learnig/blob/master/CNN_Image_Classification_using_cifar10_Dataset.ipynb\" target=\"_parent\"><img src=\"https://colab.research.google.com/assets/colab-badge.svg\" alt=\"Open In Colab\"/></a>"
      ]
    },
    {
      "cell_type": "markdown",
      "metadata": {
        "id": "tPHZybV7CWip",
        "colab_type": "text"
      },
      "source": [
        "## Installing tensorflow"
      ]
    },
    {
      "cell_type": "code",
      "metadata": {
        "id": "vjuzC9TUDPs5",
        "colab_type": "code",
        "colab": {}
      },
      "source": [
        "!pip install tensorflow\n",
        " "
      ],
      "execution_count": 0,
      "outputs": []
    },
    {
      "cell_type": "markdown",
      "metadata": {
        "id": "cOkbU5u_CzGI",
        "colab_type": "text"
      },
      "source": [
        "## Import libraries"
      ]
    },
    {
      "cell_type": "code",
      "metadata": {
        "id": "Aov68xe2Ed5_",
        "colab_type": "code",
        "colab": {}
      },
      "source": [
        "import tensorflow as tf\n",
        "import numpy as np\n",
        "import matplotlib.pyplot as plt\n",
        "import keras\n",
        "from keras.models import Sequential\n",
        "from keras.layers import Dense, Conv2D, Dropout, MaxPooling2D, Flatten\n",
        "from keras.utils import to_categorical\n",
        "%matplotlib inline"
      ],
      "execution_count": 0,
      "outputs": []
    },
    {
      "cell_type": "markdown",
      "metadata": {
        "id": "Ij3AIyHTDUB0",
        "colab_type": "text"
      },
      "source": [
        "## Loading cifar10 dataset"
      ]
    },
    {
      "cell_type": "code",
      "metadata": {
        "id": "71uS9hGVFv5q",
        "colab_type": "code",
        "colab": {}
      },
      "source": [
        "from keras.datasets import cifar10\n",
        "(train_images, train_labels),(test_images, test_labels) = cifar10.load_data()"
      ],
      "execution_count": 0,
      "outputs": []
    },
    {
      "cell_type": "code",
      "metadata": {
        "id": "7mhuQumKHApk",
        "colab_type": "code",
        "colab": {}
      },
      "source": [
        "print('Training data shape : ', train_images.shape, train_labels.shape)\n",
        "print('Training data shape : ', test_images.shape, test_labels.shape)\n"
      ],
      "execution_count": 0,
      "outputs": []
    },
    {
      "cell_type": "markdown",
      "metadata": {
        "id": "_8azUkfyGT8h",
        "colab_type": "text"
      },
      "source": [
        "## Find the unique numbers from the train labels\n"
      ]
    },
    {
      "cell_type": "code",
      "metadata": {
        "id": "ygmPssy_HTtQ",
        "colab_type": "code",
        "colab": {}
      },
      "source": [
        "classes = np.unique(train_labels)\n",
        "nClasses = len(classes)\n"
      ],
      "execution_count": 0,
      "outputs": []
    },
    {
      "cell_type": "markdown",
      "metadata": {
        "id": "wATB2VgiEH3W",
        "colab_type": "text"
      },
      "source": [
        "## Display First image of Train and Test Dataset"
      ]
    },
    {
      "cell_type": "code",
      "metadata": {
        "id": "tE1m30oZIGN4",
        "colab_type": "code",
        "colab": {}
      },
      "source": [
        "plt.figure(figsize=[4,2])\n",
        "plt.subplot(121)\n",
        "plt.imshow(train_images[0,:,:], cmap='gray')\n",
        "plt.title(\"Ground Truth : {}\".format(train_labels[0]))\n",
        "\n",
        "plt.subplot(122)\n",
        "plt.imshow(test_images[0,:,:], cmap='gray')\n",
        "plt.title(\"Ground Truth : {}\".format(test_labels[0]))"
      ],
      "execution_count": 0,
      "outputs": []
    },
    {
      "cell_type": "markdown",
      "metadata": {
        "id": "O7E87zn2Gv-J",
        "colab_type": "text"
      },
      "source": [
        "## Find the shape of input images and create the variable input_shape\n"
      ]
    },
    {
      "cell_type": "code",
      "metadata": {
        "id": "nOP1jQlYLLPR",
        "colab_type": "code",
        "colab": {}
      },
      "source": [
        "nRow, nCols, nDims = train_images.shape[1:]\n",
        "train_data = train_images.reshape(train_images.shape[0],nRow,nCols,nDims)\n",
        "test_data = test_images.reshape(test_images.shape[0],nRow,nCols,nDims)\n",
        "input_shape = (nRow,nCols,nDims)"
      ],
      "execution_count": 0,
      "outputs": []
    },
    {
      "cell_type": "markdown",
      "metadata": {
        "id": "QS2mvOtDHFab",
        "colab_type": "text"
      },
      "source": [
        "## Change to float datatype\n"
      ]
    },
    {
      "cell_type": "code",
      "metadata": {
        "id": "P_fPmD8fNAvN",
        "colab_type": "code",
        "colab": {}
      },
      "source": [
        "train_data = train_data.astype('float32')\n",
        "test_data = test_data.astype('float32')\n"
      ],
      "execution_count": 0,
      "outputs": []
    },
    {
      "cell_type": "markdown",
      "metadata": {
        "id": "897QMYrVHNKD",
        "colab_type": "text"
      },
      "source": [
        "## Normalizing the data\n"
      ]
    },
    {
      "cell_type": "code",
      "metadata": {
        "id": "LtSgGUnbN0Fc",
        "colab_type": "code",
        "colab": {}
      },
      "source": [
        "train_data /= 255\n",
        "test_data /= 255"
      ],
      "execution_count": 0,
      "outputs": []
    },
    {
      "cell_type": "markdown",
      "metadata": {
        "id": "AjOrJvQGHb5v",
        "colab_type": "text"
      },
      "source": [
        "## Change the labels from integer to categorical data"
      ]
    },
    {
      "cell_type": "code",
      "metadata": {
        "id": "_PiQY0OLOIep",
        "colab_type": "code",
        "colab": {}
      },
      "source": [
        "train_labels_one_hot = to_categorical(train_labels)\n",
        "test_labels_one_hot = to_categorical(test_labels)\n"
      ],
      "execution_count": 0,
      "outputs": []
    },
    {
      "cell_type": "markdown",
      "metadata": {
        "id": "ttX9NqhgJF1g",
        "colab_type": "text"
      },
      "source": [
        "## Creating CNN Model function"
      ]
    },
    {
      "cell_type": "code",
      "metadata": {
        "id": "dBUAuyk7OaUF",
        "colab_type": "code",
        "colab": {}
      },
      "source": [
        "def createModel():\n",
        "  model = Sequential()\n",
        "  model.add(Conv2D(32,(3,3),padding='same', activation='relu', input_shape = input_shape))\n",
        "  model.add(Conv2D(32,(3,3),activation='relu'))\n",
        "  model.add(MaxPooling2D(pool_size=(2,2)))\n",
        "  model.add(Dropout(0.25))\n",
        "\n",
        "  model.add(Conv2D(64,(3,3),padding='same', activation='relu'))\n",
        "  model.add(Conv2D(64, (3, 3), activation='relu'))\n",
        "  model.add(MaxPooling2D(pool_size=(2,2)))\n",
        "  model.add(Dropout(0.25))\n",
        "\n",
        "  model.add(Conv2D(96,(3,3),padding='same', activation='relu'))\n",
        "  model.add(Conv2D(96,(3, 3), activation='relu'))\n",
        "  model.add(MaxPooling2D(pool_size=(2,2)))\n",
        "  model.add(Dropout(0.25))\n",
        "  \n",
        "  model.add(Flatten())\n",
        "  model.add(Dense(512,activation='relu'))\n",
        "  model.add(Dropout(0.5))\n",
        "  model.add(Dense(nClasses,activation='softmax'))\n",
        "  return model\n",
        "\n",
        "\n"
      ],
      "execution_count": 0,
      "outputs": []
    },
    {
      "cell_type": "markdown",
      "metadata": {
        "id": "YF8m0OzIJie0",
        "colab_type": "text"
      },
      "source": [
        "## Image Preprocessing"
      ]
    },
    {
      "cell_type": "code",
      "metadata": {
        "id": "GR7GTmZsUCoW",
        "colab_type": "code",
        "colab": {}
      },
      "source": [
        "from keras.preprocessing.image import ImageDataGenerator\n",
        "datagen = ImageDataGenerator(zoom_range=0.2,rotation_range=10,width_shift_range=0.1,height_shift_range=0.1,horizontal_flip=True,shear_range = 0.2,vertical_flip=False)\n"
      ],
      "execution_count": 0,
      "outputs": []
    },
    {
      "cell_type": "markdown",
      "metadata": {
        "id": "Ur_BCxa4J-F-",
        "colab_type": "text"
      },
      "source": [
        "## Create Model, train on Training data Set and Evaluate on test Dataset"
      ]
    },
    {
      "cell_type": "code",
      "metadata": {
        "id": "IX_ZElbaWFw3",
        "colab_type": "code",
        "colab": {}
      },
      "source": [
        "model2 = createModel()\n",
        "batch_size = 256\n",
        "epochs = 50\n",
        "model2.compile(optimizer='rmsprop',loss='categorical_crossentropy',metrics=['accuracy'])\n",
        "\n",
        "\n",
        "history2 = model2.fit_generator(datagen.flow(train_data, train_labels_one_hot, batch_size=batch_size),\n",
        "                             steps_per_epoch=int(np.ceil(train_data.shape[0] / float(batch_size))),\n",
        "                             epochs=epochs,\n",
        "                             validation_data=(test_data, test_labels_one_hot),\n",
        "                             workers=4)\n",
        "\n",
        "model2.evaluate(test_data, test_labels_one_hot)"
      ],
      "execution_count": 0,
      "outputs": []
    },
    {
      "cell_type": "code",
      "metadata": {
        "id": "TBBxnQ1CXL4K",
        "colab_type": "code",
        "colab": {}
      },
      "source": [
        "model2.summary()\n"
      ],
      "execution_count": 0,
      "outputs": []
    },
    {
      "cell_type": "markdown",
      "metadata": {
        "id": "kzyauK34LWMp",
        "colab_type": "text"
      },
      "source": [
        "## Plot Train loss and Validation Loss"
      ]
    },
    {
      "cell_type": "code",
      "metadata": {
        "id": "zsDYj5qwkoYI",
        "colab_type": "code",
        "colab": {}
      },
      "source": [
        "plt.figure(figsize=[8,6])\n",
        "plt.plot(history2.history['loss'],'r',linewidth=3.0)\n",
        "plt.plot(history2.history['val_loss'],'b',linewidth=3.0)\n",
        "plt.legend(['Training loss', 'Validation Loss'],fontsize=18)\n",
        "plt.xlabel('Epochs ',fontsize=16)\n",
        "plt.ylabel('Loss',fontsize=16)\n",
        "plt.title('Loss Curves',fontsize=16)"
      ],
      "execution_count": 0,
      "outputs": []
    },
    {
      "cell_type": "markdown",
      "metadata": {
        "id": "-BZyi2MxLniM",
        "colab_type": "text"
      },
      "source": [
        "## Plot Train Accuracy and Validation Accuracy"
      ]
    },
    {
      "cell_type": "code",
      "metadata": {
        "id": "IcFH-XXclAKk",
        "colab_type": "code",
        "colab": {}
      },
      "source": [
        "plt.figure(figsize=[8,6])\n",
        "plt.plot(history2.history['accuracy'],'r',linewidth=3.0)\n",
        "plt.plot(history2.history['val_accuracy'],'b',linewidth=3.0)\n",
        "plt.legend(['Training Accuracy', 'Validation Accuracy'],fontsize=18)\n",
        "plt.xlabel('Epochs ',fontsize=16)\n",
        "plt.ylabel('Accuracy',fontsize=16)\n",
        "plt.title('Accuracy Curves',fontsize=16)"
      ],
      "execution_count": 0,
      "outputs": []
    }
  ]
}